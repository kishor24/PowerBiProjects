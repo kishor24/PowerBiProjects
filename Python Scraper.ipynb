{
 "cells": [
  {
   "cell_type": "code",
   "execution_count": null,
   "metadata": {},
   "outputs": [],
   "source": [
    "https://www.twc.texas.gov/sites/default/files/oei/docs/warn-act-listings-2024-twc.xlsx"
   ]
  },
  {
   "cell_type": "code",
   "execution_count": null,
   "metadata": {},
   "outputs": [],
   "source": [
    "import requests\n",
    "\n",
    "# URL for the Excel file you want to download\n",
    "file_url = 'https://www.twc.texas.gov/sites/default/files/oei/docs/warn-act-listings-2024-twc.xlsx'\n",
    "\n",
    "# Send a GET request to the file URL\n",
    "response = requests.get(file_url)\n",
    "\n",
    "# Check if the request was successful (status code 200)\n",
    "if response.status_code == 200:\n",
    "    # Open a file in binary write mode\n",
    "    with open('downloaded_file.xlsx', 'wb') as file:\n",
    "        # Write the content of the response to the file\n",
    "        file.write(response.content)\n",
    "    print(\"File downloaded successfully!\")\n",
    "else:\n",
    "    print(f\"Failed to download the file. Status code: {response.status_code}\")\n"
   ]
  }
 ],
 "metadata": {
  "language_info": {
   "name": "python"
  }
 },
 "nbformat": 4,
 "nbformat_minor": 2
}
